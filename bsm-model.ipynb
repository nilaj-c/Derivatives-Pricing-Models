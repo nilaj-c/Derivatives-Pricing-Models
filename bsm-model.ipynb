{
 "cells": [
  {
   "cell_type": "markdown",
   "metadata": {},
   "source": [
    "# Black-Scholes-Merton model of European Option Pricing\n",
    "\n",
    "In this notebook, I write three functions to calculate the price of an European option using the Black-Scholes-Merton model. \n",
    "\n",
    "The function bsm_analytic calculates the price of an European Call or Put Option using the analytic formula. The function bsm_simulation calculates the price using a Monte-Carlo simulation where we only simulate the distribution of stock prices on the expiry date. We can do this since the analytic solution of the SDE is known. The function bsm_sim_2 generates the entire stock price paths according to the Geometric Brownian Motion SDE using the Euler-Maruyama algorithm and then calculates the option price using the simulated stock prices on the expiry date.\n",
    "\n",
    "These do not assume a dividend paying stock but the stock price can be adjusted by calculating the present value of the divident payments and by adjusting $d_1$ and $d_2$ suitably."
   ]
  },
  {
   "cell_type": "code",
   "execution_count": null,
   "metadata": {},
   "outputs": [],
   "source": [
    "import numpy as np\n",
    "from scipy.stats import norm"
   ]
  },
  {
   "cell_type": "markdown",
   "metadata": {},
   "source": [
    "## Analytic function:\n",
    "\n",
    "The analytic form of the Black-Scholes-Merton formula is:\n",
    "\n",
    "$\\large C(S_0,T) = S_0 N(d_1) - K e^{-r_fT}N(d_2)$ (for Call)\n",
    "\n",
    "and \n",
    "\n",
    "$\\large C(S_0,T) = K e^{-r_fT}N(-d_2) - S_0 N(-d_1) $, (for Put)\n",
    "\n",
    "while the function \n",
    "\n",
    "In the formula above $N(x)$ is the cumulative distribution formula for a standard, normal distribution.\n",
    "\n",
    "$\\large d_1 = \\frac{ln(\\frac{S_0}{K}) + (r_f + \\frac{\\sigma^2}{2})T}{\\sigma \\sqrt{T}}$ \n",
    "\n",
    "and $\\large d_2 = d1 - \\sigma \\sqrt{T}$. \n",
    "\n",
    "here $S_0$ = stock price at time 0 <br/>\n",
    "$K$ = strike price <br/>\n",
    "$T$ = expiry <br/>\n",
    "$\\sigma$ = volatility <br/>\n",
    "$r_f$ = risk-free rate <br/>\n",
    "\n",
    "The function also takes an additional input called \"Type\" for the call/put option type. "
   ]
  },
  {
   "cell_type": "code",
   "execution_count": null,
   "metadata": {},
   "outputs": [],
   "source": [
    "def bsm_analytic(S_0,K,T,r_f,vol,Type):\n",
    "    \n",
    "    #inputs:\n",
    "    #S_0: price at time 0\n",
    "    #K: strike price\n",
    "    #T: expiry time\n",
    "    #r_f : risk-free rate\n",
    "    #vol: volatility (in same units as T)\n",
    "    #Type: Call/Put\n",
    "    \n",
    "    d_1 = (np.log(S_0/K) + (r_f + vol*vol/2.0)*T)/(vol*np.sqrt(T))\n",
    "    \n",
    "    d_2 = d_1 - vol*np.sqrt(T)\n",
    "    \n",
    "    if Type == 'Call':\n",
    "        \n",
    "        bsm_price = S_0*norm.cdf(d_1) - K*np.exp(-r_f*T)*norm.cdf(d_2)\n",
    "        \n",
    "    elif Type == 'Put':\n",
    "        \n",
    "        bsm_price = K*np.exp(-r_f*T)*norm.cdf(-d_2) - S_0*norm.cdf(-d_1)\n",
    "        \n",
    "    return bsm_price\n",
    "    \n",
    "    "
   ]
  },
  {
   "cell_type": "code",
   "execution_count": null,
   "metadata": {},
   "outputs": [],
   "source": [
    "bsm_analytic(50.0, 45.0, 80/365, 0.02, 0.3, 'Call')"
   ]
  },
  {
   "cell_type": "markdown",
   "metadata": {},
   "source": [
    "## Monte-Carlo Solution: \n",
    "\n",
    "The Monte Carlo solution is found by first simulating many stock price paths. The price of the option is simply the present value of the average payoff over all these paths. Since the payoff of an European option depends only on the stock price at maturity, we need not simulate the whole price path. We can only simulate the prices on the maturity date. The assumption of the Black-Scholes-Merton is that the stock price follows a Geometric Brownian Motion, i.e.\n",
    "\n",
    "$\\large \\frac{dS}{S} = \\mu dt + \\sigma dW_t$\n",
    "\n",
    "This equation is analytically solvable and it can be shown that:\n",
    "\n",
    "$\\large S(T) = S_0 e^{(\\mu - \\sigma^2/2)T + \\sigma W_t}$\n",
    "\n",
    "Hence, by only simulating a range of stock prices on the expiry date, we can calculate the price of the option. We can also simulate the entire price path using the analytic solution or the Euler-Maruyama method and for details of that see my module on GBM-stock-price. \n",
    "\n",
    "This function takes the following inputs:\n",
    "\n",
    "$S_0$ = stock price at time 0 <br/>\n",
    "$K$ = strike price <br/>\n",
    "$T$ = expiry <br/>\n",
    "$\\sigma$ = volatility <br/>\n",
    "$r_f$ = risk-free rate <br/>\n",
    "Type = Call/Put for call or put option.\n",
    "\n",
    "The function also takes an additional input called 'iterations' for which is the number of iterations we want to use for the averaging, the default is 10000."
   ]
  },
  {
   "cell_type": "code",
   "execution_count": 4,
   "metadata": {},
   "outputs": [],
   "source": [
    "def bsm_simulation(S_0,K,T,r_f,vol,Type,iterations = 100000):\n",
    "    \n",
    "    #inputs:\n",
    "    #S_0: price at time 0\n",
    "    #K: strike price\n",
    "    #T: expiry time\n",
    "    #r_f : risk-free rate\n",
    "    #vol: volatility (in same units as T)\n",
    "    #Type: Call/Put\n",
    "    #iterations: number of iterations (default 10000)\n",
    "    \n",
    "    #stock price at time T\n",
    "    \n",
    "    S_T = S_0*np.exp(((r_f - vol**2.0/2.0)*T) + vol*np.sqrt(T)*np.random.normal(0.0,1.0,iterations))\n",
    "    \n",
    "    #obtaining the payoff of each iteration\n",
    "    \n",
    "    if Type == 'Call':\n",
    "        option_exercise = S_T - K  \n",
    "    elif Type == 'Put':\n",
    "        option_exercise = K - S_T\n",
    "    \n",
    "    zeros = np.zeros(iterations)\n",
    "    \n",
    "    payoff = np.maximum(option_exercise, zeros)\n",
    "    \n",
    "    #discounting back at the risk free rate\n",
    "    \n",
    "    bsm_price = np.exp(-r_f*T)*np.mean(payoff)\n",
    "    \n",
    "    return bsm_price\n",
    "    "
   ]
  },
  {
   "cell_type": "code",
   "execution_count": 5,
   "metadata": {},
   "outputs": [
    {
     "data": {
      "text/plain": [
       "6.017796011122605"
      ]
     },
     "execution_count": 5,
     "metadata": {},
     "output_type": "execute_result"
    }
   ],
   "source": [
    "bsm_simulation(50.0, 45.0, 80/365, 0.02, 0.3, 'Call')"
   ]
  },
  {
   "cell_type": "markdown",
   "metadata": {},
   "source": [
    "### Timing each function"
   ]
  },
  {
   "cell_type": "code",
   "execution_count": 14,
   "metadata": {},
   "outputs": [
    {
     "name": "stdout",
     "output_type": "stream",
     "text": [
      "166 µs ± 15 µs per loop (mean ± std. dev. of 7 runs, 1000 loops each)\n"
     ]
    }
   ],
   "source": [
    "%timeit -n 1000 bsm_analytic(50.0, 45.0, 80/365, 0.02, 0.3, 'Call')"
   ]
  },
  {
   "cell_type": "code",
   "execution_count": 15,
   "metadata": {},
   "outputs": [
    {
     "name": "stdout",
     "output_type": "stream",
     "text": [
      "3.18 ms ± 19.7 µs per loop (mean ± std. dev. of 7 runs, 1000 loops each)\n"
     ]
    }
   ],
   "source": [
    "%timeit -n 1000 bsm_simulation(50.0, 45.0, 80/365, 0.02, 0.3, 'Call')"
   ]
  },
  {
   "cell_type": "markdown",
   "metadata": {},
   "source": [
    "## Trying a different implement of the Monte Carlo simulation:\n",
    "\n",
    "Here we will simulate the entire path of the stock price. Though the analytic form of the stock price saves us this step, it is actually important to generate the whole path since if the path is not analytically obtainable, like in the case of any interest rate derivative, the above function will not work."
   ]
  },
  {
   "cell_type": "code",
   "execution_count": 67,
   "metadata": {},
   "outputs": [],
   "source": [
    "def bsm_sim_2(S_0,K,T,r_f,vol,Type,iterations = 10000, n = 1000):\n",
    "    \n",
    "    #inputs:\n",
    "    #S_0: price at time 0\n",
    "    #K: strike price\n",
    "    #T: expiry time\n",
    "    #r_f : risk-free rate\n",
    "    #vol: volatility (in same units as T)\n",
    "    #Type: Call/Put\n",
    "    #iterations: number of iterations (default 10000)\n",
    "    #n = number of time steps (default 1000)\n",
    "    \n",
    "    #stock price at time T\n",
    "    \n",
    "    dt = T/n\n",
    "    \n",
    "    #The Equivalent of Risk-Neutral Pricing here is that the\n",
    "    #stock on average grows at the risk free rate\n",
    "    \n",
    "    r_array = r_f*dt + vol*np.random.normal(0,1,(n,iterations))*np.sqrt(dt)\n",
    "    \n",
    "    price_array= np.zeros_like(r_array)\n",
    "    \n",
    "    price_array[0] = S_0\n",
    "\n",
    "    #generating the stock price\n",
    "    \n",
    "    for t in range(1, n):\n",
    "        price_array[t] = price_array[t-1] + price_array[t-1]*r_array[t]\n",
    "        \n",
    "    #stock price on expiry\n",
    "    \n",
    "    S_T = price_array[n-1]\n",
    "    \n",
    "    #calculating the option payoff \n",
    "    \n",
    "    if Type == 'Call':\n",
    "        option_exercise = S_T - K  \n",
    "    elif Type == 'Put':\n",
    "        option_exercise = K - S_T\n",
    "       \n",
    "    zeros = np.zeros(iterations)\n",
    "    \n",
    "    payoff = np.maximum(option_exercise, zeros)\n",
    "    \n",
    "    #discounting back at the risk free rate\n",
    "    \n",
    "    bsm_price = np.exp(-r_f*T)*np.mean(payoff)\n",
    "        \n",
    "    return bsm_price\n",
    "    \n",
    "    "
   ]
  },
  {
   "cell_type": "code",
   "execution_count": 68,
   "metadata": {},
   "outputs": [
    {
     "data": {
      "text/plain": [
       "6.004759591433664"
      ]
     },
     "execution_count": 68,
     "metadata": {},
     "output_type": "execute_result"
    }
   ],
   "source": [
    "bsm_sim_2(50.0, 45.0, 80/365, 0.02, 0.3, 'Call', iterations=10000)"
   ]
  },
  {
   "cell_type": "code",
   "execution_count": 69,
   "metadata": {},
   "outputs": [
    {
     "name": "stdout",
     "output_type": "stream",
     "text": [
      "341 ms ± 7.01 ms per loop (mean ± std. dev. of 7 runs, 10 loops each)\n"
     ]
    }
   ],
   "source": [
    "%timeit -n 10 bsm_sim_2(50.0, 45.0, 80/365, 0.02, 0.3, 'Call')"
   ]
  },
  {
   "cell_type": "code",
   "execution_count": null,
   "metadata": {},
   "outputs": [],
   "source": []
  }
 ],
 "metadata": {
  "kernelspec": {
   "display_name": "Python 3",
   "language": "python",
   "name": "python3"
  },
  "language_info": {
   "codemirror_mode": {
    "name": "ipython",
    "version": 3
   },
   "file_extension": ".py",
   "mimetype": "text/x-python",
   "name": "python",
   "nbconvert_exporter": "python",
   "pygments_lexer": "ipython3",
   "version": "3.6.7"
  }
 },
 "nbformat": 4,
 "nbformat_minor": 2
}
