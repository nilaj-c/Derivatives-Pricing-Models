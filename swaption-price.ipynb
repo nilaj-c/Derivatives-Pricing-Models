{
 "cells": [
  {
   "cell_type": "markdown",
   "metadata": {},
   "source": [
    "# Pricing a Swaption using a binomial tree: \n",
    "\n",
    "In this module, I price an interest-rate swaption which are options on a swap using the binomial tree. The swaption pricing function has the following inputs:\n",
    "\n",
    "We price the swap using Martingale pricing formula:\n",
    "\n",
    "$\\large S_t = \\mathbb{E}[\\frac{S_{t+1} + C_{t+1}}{1 + r_t}]$\n",
    "\n",
    "and we use the function swap_price (introduced in an earlier module).  "
   ]
  },
  {
   "cell_type": "markdown",
   "metadata": {},
   "source": [
    "The function swaption_price takes in the following parameters: <br/>\n",
    "k: the strike of the swaption <br/>\n",
    "r_f: the fixed rate of the swap <br/>\n",
    "r_0: the short rate at time 0 <br/>\n",
    "n_o: the expiry period of the swaption <br/>\n",
    "n: the expiry period of the swap <br/>\n",
    "u,d: up and down factors by which the short rate evolves <br/>\n",
    "\n",
    "To model the short rate, we will use the function short_rate, which models the evolution of the short rate using a binomial tree. \n",
    "\n",
    "The swaption pricing is done with the usual risk-neutral method in a binomial tree and by discounting the price using the short-rate of that state."
   ]
  },
  {
   "cell_type": "code",
   "execution_count": 5,
   "metadata": {},
   "outputs": [],
   "source": [
    "import numpy as np"
   ]
  },
  {
   "cell_type": "code",
   "execution_count": 61,
   "metadata": {},
   "outputs": [],
   "source": [
    "def swaption_price(k,r_f,r_0,n_o,n,u,d):\n",
    "    \n",
    "    #inputs:\n",
    "    #k: the strike rate (enter amount in %)\n",
    "    #r_f: the fixed rate of the swap(enter amount in %)\n",
    "    #r_0: the short rate at time 0 (enter amount in %)\n",
    "    #n_o: the expiry period of the swaption\n",
    "    #n: the expiry period of the swap   \n",
    "    #u,d: up and down factors by which the short rate evolves\n",
    "    \n",
    "    s_price_arr = swap_price(1.0,r_f,r_0,n,u,d) #the swap price on a notional of $1\n",
    "    \n",
    "    rate_lattice = short_rate(r_0,n_o,u,d)\n",
    "    \n",
    "    rate_lattice/= 100.0\n",
    "    \n",
    "    swaption_price = np.zeros((n_o+1,n_o+1))\n",
    "    \n",
    "    #price the terminal column of the swaption price lattice\n",
    "    \n",
    "    for i in range(n_o+1):\n",
    "        swaption_price[n_o,i] = max(s_price_arr[n_o,i],0)\n",
    "        \n",
    "    q = 0.5    #the risk-neutral probability\n",
    "      \n",
    "    for i in range(n_o-1,-1,-1):\n",
    "        for j in range(i+1):\n",
    "                swaption_price[i,j] = (1/(1+rate_lattice[i,j]))* \\\n",
    "                                  (q*swaption_price[i+1,j+1]+(1-q)*swaption_price[i+1,j])\n",
    "                                \n",
    "        \n",
    "    return swaption_price[0,0]"
   ]
  },
  {
   "cell_type": "code",
   "execution_count": 65,
   "metadata": {},
   "outputs": [
    {
     "data": {
      "text/plain": [
       "0.06197180915914935"
      ]
     },
     "execution_count": 65,
     "metadata": {},
     "output_type": "execute_result"
    }
   ],
   "source": [
    "swaption_price(0.0,5.0,6.0,3,6,1.25,0.9)"
   ]
  },
  {
   "cell_type": "code",
   "execution_count": 66,
   "metadata": {},
   "outputs": [],
   "source": [
    "def swap_price(p,k,r_0,n,u,d):\n",
    "    \n",
    "    #inputs:\n",
    "    #p: the notional amount\n",
    "    #k: the fixed rate (enter amount in %)\n",
    "    #r_0: the short rate at time 0 \n",
    "    #n: the expiry period of the swap \n",
    "    #u,d: up and down factors by which the short rate evolves\n",
    "    \n",
    "    rate_lattice = short_rate(r_0,n-1,u,d)\n",
    "    \n",
    "    rate_lattice /= 100.0\n",
    "    \n",
    "    swap_price = np.zeros_like(rate_lattice) #create an empty array of same dimension\n",
    "                                             #as rate_lattice\n",
    "    \n",
    "    #price the terminal node of the lattice\n",
    "    \n",
    "    for i in range(n):\n",
    "        swap_price[n-1,i] = (rate_lattice[n-1,i] - k/100.0)/(1+rate_lattice[n-1,i])\n",
    "        \n",
    "    #price the remaining nodes using the martingale property and risk-neutral probabilities\n",
    "    \n",
    "    q = 0.5    #the risk-neutral probability\n",
    "      \n",
    "    for i in range(n-2,-1,-1):\n",
    "        for j in range(i+1):\n",
    "                swap_price[i,j] = (1/(1+rate_lattice[i,j]))* \\\n",
    "                                  (q*swap_price[i+1,j+1]+(1-q)*swap_price[i+1,j] + \\\n",
    "                                  (rate_lattice[i,j] - k/100.0))\n",
    "    return swap_price"
   ]
  },
  {
   "cell_type": "code",
   "execution_count": 67,
   "metadata": {},
   "outputs": [],
   "source": [
    "def short_rate(r_0,n,u,d):\n",
    "    \n",
    "    #S_0 = initial stock price\n",
    "    #n: number of periods\n",
    "    #u,d = up/down movement in each step\n",
    "    \n",
    "    rate = np.zeros((n+1,n+1))\n",
    "    rate[0,0] = r_0\n",
    "    \n",
    "    for i in range(1,n+1):\n",
    "        rate[i,0] = rate[i-1,0]*d\n",
    "        for j in range(1,i+1):\n",
    "            rate[i,j] = rate[i-1,j-1]*u\n",
    "        \n",
    "        \n",
    "    return rate"
   ]
  }
 ],
 "metadata": {
  "kernelspec": {
   "display_name": "Python 3",
   "language": "python",
   "name": "python3"
  },
  "language_info": {
   "codemirror_mode": {
    "name": "ipython",
    "version": 3
   },
   "file_extension": ".py",
   "mimetype": "text/x-python",
   "name": "python",
   "nbconvert_exporter": "python",
   "pygments_lexer": "ipython3",
   "version": "3.6.7"
  }
 },
 "nbformat": 4,
 "nbformat_minor": 2
}
