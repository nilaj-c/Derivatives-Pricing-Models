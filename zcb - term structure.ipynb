{
 "cells": [
  {
   "cell_type": "markdown",
   "metadata": {},
   "source": [
    "# Calculating the term structure of interest rates from short rates:\n",
    "\n",
    "In this module, I demonstrate calculating the term structure of interest rates from the short rates. First we calculate the short rate lattice from the up and down factors (related to the volatility of the short rates). Then we calculate a number of Zero Coupon Bond Prices. The Zero-Coupon Bond price can be calculated using the formula:\n",
    "\n",
    "$Z_{i,j}^k = \\frac{1}{1+r_{i,j}} (q_u Z_{i+1,j+1} + q_d Z_{i+,j}) $\n",
    "\n",
    "where $Z_{i,j}^k$ is the time i, state j price of a ZCB maturing at time k. From the range of values of $Z_{0,0}^k$, the short rate can be calculated using the formula:\n",
    "\n",
    "$Z_{0,0}^k = \\frac{1}{(1 + r_{0,0})^k}$.\n",
    "\n",
    "$q_u$ and $q_d$ are the risk-neutral probabilities which we take as 0.5 and 0.5. We will show how the up and down factors are actually calibrated in a later module.\n",
    "\n",
    "The spot rates can be calculated using the ZCB prices using the formula:\n",
    "\n",
    "$Z_0^i*(1 + s_i)^i = FV$ \n",
    "\n",
    "where $Z_0^i$ is the present value of the ZCB maturing in i periods with Face Value FV.\n",
    "\n",
    "The spot rates for all maturities is termed as the term-structure of interest rates.\n"
   ]
  },
  {
   "cell_type": "markdown",
   "metadata": {},
   "source": [
    "The functions defined here are:\n",
    "\n",
    "plot_term_structure(r_0,n_u,d): plots the term structure using the initial rate, number of periods and up and down factors of the short rate\n",
    "\n",
    "term_structure(r_0,n,u,d): returns an array of spot rates using the initial rate, number of periods and up and down factors of the short rate\n",
    "\n",
    "zcb_price(r_0,n,u,d, fv): calculates the Zero Coupon Bond price lattice of ZCB with spot rate r_0, maturing in n periods, where u and d are the up and down factors of the short rate and the face value of the bond is fv\n",
    "\n",
    "short_rate(r_0,n,u,d): calculates the short rate lattice given initial rate r_0, number of periods n, up and down factors u and d respectively"
   ]
  },
  {
   "cell_type": "code",
   "execution_count": 86,
   "metadata": {},
   "outputs": [],
   "source": [
    "import numpy as np\n",
    "import matplotlib.pyplot as plt"
   ]
  },
  {
   "cell_type": "code",
   "execution_count": 110,
   "metadata": {},
   "outputs": [],
   "source": [
    "def plot_term_structure(r_0,n,u,d):\n",
    "    \n",
    "    spot_rates = term_structure(r_0,n,u,d)\n",
    "    \n",
    "    maturity = np.arange(1,n+1)\n",
    "    \n",
    "    plt.figure(figsize=(10,6))\n",
    "    \n",
    "    plt.plot(maturity, spot_rates*100, 'r.-')\n",
    "    \n",
    "    plt.ylabel('Spot Rates (%)', size = 20)\n",
    "    plt.xlabel('# of Periods', size = 20)\n",
    "    \n",
    "    plt.tick_params(labelsize = 14)\n",
    "    \n",
    "    plt.title('Term Structure of Interest Rates')\n",
    "    \n",
    "    return"
   ]
  },
  {
   "cell_type": "code",
   "execution_count": 114,
   "metadata": {},
   "outputs": [
    {
     "data": {
      "image/png": "[encoded data removed]",
      "text/plain": [
       "<Figure size 720x432 with 1 Axes>"
      ]
     },
     "metadata": {},
     "output_type": "display_data"
    }
   ],
   "source": [
    "plot_term_structure(6.0,200,1.25,0.9)"
   ]
  },
  {
   "cell_type": "code",
   "execution_count": 73,
   "metadata": {},
   "outputs": [],
   "source": [
    "def term_structure(r_0, n, u, d):\n",
    "    \n",
    "    #r_0: the present rate\n",
    "    #n: number of periods\n",
    "    #u,d: up and down factor of the short rates\n",
    "    \n",
    "    zcb_prices = np.zeros(n+1)   #the zcb function is defined below\n",
    "    \n",
    "    for i in range(1,n+1):\n",
    "        zcb_prices[i] = zcb_price(r_0, i, u, d)[0,0]\n",
    "        \n",
    "    spot_rates = np.zeros(n+1)\n",
    "    \n",
    "    for i in range(1,n+1):\n",
    "        spot_rates[i] = (100.0/zcb_prices[i])**(1/i) - 1.0\n",
    "           \n",
    "    return spot_rates[1:]\n",
    "    "
   ]
  },
  {
   "cell_type": "code",
   "execution_count": 12,
   "metadata": {},
   "outputs": [],
   "source": [
    "def zcb_price(r_0, n, u, d, fv=100):\n",
    "    \n",
    "    #r_0: present short rate\n",
    "    #n:maturity period\n",
    "    #u,d : up and down factor of short rate\n",
    "    #fv: face value\n",
    "    \n",
    "    q = 0.5    #the risk-neutral probability\n",
    "    \n",
    "    rate = short_rate(r_0, n-1, u, d)\n",
    "    \n",
    "    zcb = np.zeros((n+1,n+1))\n",
    "    \n",
    "    #calculating the price at the terminal node\n",
    "    \n",
    "    zcb[n,:] = fv\n",
    "    \n",
    "    \n",
    "    for i in range(n-1,-1,-1):\n",
    "        for j in range(i+1):\n",
    "            zcb[i,j] = (1/(1+rate[i,j]/100))*(q*zcb[i+1,j+1]+(1-q)*zcb[i+1,j])\n",
    "    \n",
    "    return zcb"
   ]
  },
  {
   "cell_type": "code",
   "execution_count": 2,
   "metadata": {},
   "outputs": [],
   "source": [
    "def short_rate(r_0,n,u,d):\n",
    "    \n",
    "    #S_0 = initial stock price\n",
    "    #n: number of periods\n",
    "    #u,d = up/down movement in each step\n",
    "    \n",
    "    rate = np.zeros((n+1,n+1))\n",
    "    rate[0,0] = r_0\n",
    "    \n",
    "    for i in range(1,n+1):\n",
    "        rate[i,0] = rate[i-1,0]*d\n",
    "        for j in range(1,i+1):\n",
    "            rate[i,j] = rate[i-1,j-1]*u\n",
    "        \n",
    "        \n",
    "    return rate"
   ]
  }
 ],
 "metadata": {
  "kernelspec": {
   "display_name": "Python 3",
   "language": "python",
   "name": "python3"
  },
  "language_info": {
   "codemirror_mode": {
    "name": "ipython",
    "version": 3
   },
   "file_extension": ".py",
   "mimetype": "text/x-python",
   "name": "python",
   "nbconvert_exporter": "python",
   "pygments_lexer": "ipython3",
   "version": "3.6.7"
  }
 },
 "nbformat": 4,
 "nbformat_minor": 2
}
