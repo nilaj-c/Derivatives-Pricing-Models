{
 "cells": [
  {
   "cell_type": "markdown",
   "metadata": {},
   "source": [
    "# Binomial Tree - Cox, Ross, Rubinstein model\n",
    "\n",
    "## Binomial Tree method to calculate the price of an European or American Option given u, d and number of periods\n",
    "\n",
    "### (1+r) per period compounding\n",
    "\n",
    "n : number of periods <br/>\n",
    "r_f: risk free rate <br/>\n",
    "S_0: initial stock price <br/>\n",
    "K: strike price <br/>\n",
    "u: up-factor <br/>\n",
    "d: down-factor <br/>\n",
    "PutCall: Type P for put, C for call <br/>\n",
    "Type: Type = E for European, = A for American (default is European) <br/>\n",
    "\n",
    "If volatility is to be used then the calculation is: <br/>\n",
    "$u = \\exp(\\sigma \\sqrt{\\frac{T}{n}})$ <br/>\n",
    "$d = 1/u$\n"
   ]
  },
  {
   "cell_type": "code",
   "execution_count": 73,
   "metadata": {},
   "outputs": [],
   "source": [
    "import numpy as np"
   ]
  },
  {
   "cell_type": "markdown",
   "metadata": {},
   "source": [
    "The stock_lattice function calculates the lattice of possible stock price movements in the binomial tree. This is created as a separate function since it would be used later in many pricing codes which involves a binomial tree."
   ]
  },
  {
   "cell_type": "code",
   "execution_count": 76,
   "metadata": {},
   "outputs": [],
   "source": [
    "def stock_lattice(S_0,n,u,d):\n",
    "    \n",
    "    #S_0 = initial stock price\n",
    "    #n: number of periods\n",
    "    #u,d = up/down movement in each step\n",
    "    \n",
    "    stock_price = np.zeros((n+1,n+1))\n",
    "    stock_price[0,0] = S_0\n",
    "    \n",
    "    for i in range(1,n+1):\n",
    "        stock_price[i,0] = stock_price[i-1,0]*d\n",
    "        for j in range(1,i+1):\n",
    "            stock_price[i,j] = stock_price[i-1,j-1]*u\n",
    "        \n",
    "        \n",
    "    return stock_price"
   ]
  },
  {
   "cell_type": "code",
   "execution_count": 77,
   "metadata": {},
   "outputs": [],
   "source": [
    "def binomial_tree(n, r_f, S_0, K, u, d, PutCall, Type):\n",
    "    \n",
    "    #n:number of periods\n",
    "    #r_f: risk free rate\n",
    "    #S_0:initial stock price\n",
    "    #K:strike\n",
    "    #u,d : up and down factor\n",
    "    #PutCall: enter 'Put' for Put Option, 'Call' for Call Option\n",
    "    #Type: enter 'E' for European and 'A' for American\n",
    "    \n",
    "    q = ((1.0 + r_f) - d)/(u-d)    #the risk-neutral probability\n",
    "    \n",
    "    stock_price = stock_lattice(S_0, n, u, d)\n",
    "    \n",
    "    option_price = np.zeros((n+1,n+1))\n",
    "    \n",
    "    #calculating the price at the terminal node\n",
    "    \n",
    "    for i in range(n+1):\n",
    "        if PutCall==\"Call\": # Call\n",
    "            option_price[n,i] = max(0, stock_price[n,i]-K)\n",
    "        elif PutCall==\"Put\": #Put\n",
    "            option_price[n,i] = max(0, K-stock_price[n,i])\n",
    "            \n",
    "    \n",
    "    if Type == 'E':  #for a European Option we do not check for early exercise\n",
    "        \n",
    "         for i in range(n-1,-1,-1):\n",
    "            for j in range(i+1):\n",
    "                option_price[i,j] = (1/(1+r_f))*(q*option_price[i+1,j+1]+(1-q)*option_price[i+1,j])\n",
    "                \n",
    "    elif Type == 'A': #for an American Option the value is the maximum of binomial price and early exercise payoff\n",
    "        \n",
    "         for i in range(n-1,-1,-1):\n",
    "            for j in range(i+1):\n",
    "                if PutCall==\"Put\":\n",
    "                    option_price[i,j] = max(0, K - stock_price[i,j], \n",
    "                                           (1/(1+r_f))*(q*option_price[i+1,j+1]+(1-q)*option_price[i+1,j]))\n",
    "                elif PutCall==\"Call\":\n",
    "                    option_price[i,j] = max(0, stock_price[i,j] - K, \n",
    "                                           (1/(1+r_f))*(q*option_price[i+1,j+1]+(1-q)*option_price[i+1,j])) \n",
    "    \n",
    "    \n",
    "    \n",
    "    return option_price[0,0]\n",
    "    \n",
    "    \n",
    "    "
   ]
  },
  {
   "cell_type": "code",
   "execution_count": 80,
   "metadata": {},
   "outputs": [
    {
     "data": {
      "text/plain": [
       "3.823930814466083"
      ]
     },
     "execution_count": 80,
     "metadata": {},
     "output_type": "execute_result"
    }
   ],
   "source": [
    "binomial_tree(3, 0.01, 100, 100, 1.07, 1.0/1.07, 'Put', 'A')"
   ]
  }
 ],
 "metadata": {
  "kernelspec": {
   "display_name": "Python 3",
   "language": "python",
   "name": "python3"
  },
  "language_info": {
   "codemirror_mode": {
    "name": "ipython",
    "version": 3
   },
   "file_extension": ".py",
   "mimetype": "text/x-python",
   "name": "python",
   "nbconvert_exporter": "python",
   "pygments_lexer": "ipython3",
   "version": "3.6.7"
  }
 },
 "nbformat": 4,
 "nbformat_minor": 2
}
