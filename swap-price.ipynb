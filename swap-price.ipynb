{
 "cells": [
  {
   "cell_type": "markdown",
   "metadata": {},
   "source": [
    "# Pricing an Interest-Rate Swap using a binomial tree: \n",
    "\n",
    "In this module, I price an interest-rate swap. Swaps are liquidly traded securities by which two parties exchange the cash flows. Usually one leg of the swap is fixed and the other is floating. Here I will focus on pricing a swap on the interest rate with a fixed interest rate which is paid in arrears.\n",
    "\n",
    "We price the swap using Martingale pricing formula:\n",
    "\n",
    "$\\large S_t = \\mathbb{E}[\\frac{S_{t+1} + C_{t+1}}{1 + r_t}]$\n",
    "\n",
    "where $S_t$ is the value of the swap at time t, $C_t$ is the coupon payment (cash flow) at time t and $r_t$ is the short rate. To find the price of the swap we model it using a binomial tree. "
   ]
  },
  {
   "cell_type": "markdown",
   "metadata": {},
   "source": [
    "The function swap_price takes in the following parameters: <br/>\n",
    "p: the notional amount <br/>\n",
    "k: the fixed rate <br/>\n",
    "r_0: the short rate at time 0 <br/>\n",
    "n: the expiry period of the swap <br/>\n",
    "u,d: up and down factors by which the short rate evolves <br/>\n",
    "\n",
    "To model the short rate, we will use the function short_rate, which models the evolution of the short rate using a binomial tree."
   ]
  },
  {
   "cell_type": "code",
   "execution_count": 1,
   "metadata": {},
   "outputs": [],
   "source": [
    "import numpy as np"
   ]
  },
  {
   "cell_type": "code",
   "execution_count": 82,
   "metadata": {},
   "outputs": [],
   "source": [
    "def swap_price(p,k,r_0,n,u,d):\n",
    "    \n",
    "    #inputs:\n",
    "    #p: the notional amount\n",
    "    #k: the fixed rate (enter amount in %)\n",
    "    #r_0: the short rate at time 0 \n",
    "    #n: the expiry period of the swap \n",
    "    #u,d: up and down factors by which the short rate evolves\n",
    "    \n",
    "    rate_lattice = short_rate(r_0,n-1,u,d)\n",
    "    \n",
    "    rate_lattice /= 100.0\n",
    "    \n",
    "    swap_price = np.zeros_like(rate_lattice) #create an empty array of same dimension\n",
    "                                             #as rate_lattice\n",
    "    \n",
    "    #price the terminal node of the lattice\n",
    "    \n",
    "    for i in range(n):\n",
    "        swap_price[n-1,i] = (rate_lattice[n-1,i] - k/100.0)/(1+rate_lattice[n-1,i])\n",
    "        \n",
    "    #price the remaining nodes using the martingale property and risk-neutral probabilities\n",
    "    \n",
    "    q = 0.5    #the risk-neutral probability\n",
    "      \n",
    "    for i in range(n-2,-1,-1):\n",
    "        for j in range(i+1):\n",
    "            if i < j:\n",
    "                swap_price[i,j] = ''\n",
    "            else:\n",
    "                swap_price[i,j] = (1/(1+rate_lattice[i,j]))* \\\n",
    "                                  (q*swap_price[i+1,j+1]+(1-q)*swap_price[i+1,j] + \\\n",
    "                                  (rate_lattice[i,j] - k/100.0))\n",
    "    \n",
    "    print(\"The swap price of a {} % swap on $ {} notional, expiring in {} periods is:\".format(k,p,n))\n",
    "    \n",
    "    \n",
    "    return swap_price[0,0]*p"
   ]
  },
  {
   "cell_type": "code",
   "execution_count": 84,
   "metadata": {},
   "outputs": [
    {
     "name": "stdout",
     "output_type": "stream",
     "text": [
      "The swap price of a 5.0 % swap on $ 100 notional, expiring in 10 periods is:\n"
     ]
    },
    {
     "data": {
      "text/plain": [
       "19.599784745960417"
      ]
     },
     "execution_count": 84,
     "metadata": {},
     "output_type": "execute_result"
    }
   ],
   "source": [
    "swap_price(100,5.0,6.0,10,1.25,0.9)"
   ]
  },
  {
   "cell_type": "code",
   "execution_count": 73,
   "metadata": {},
   "outputs": [],
   "source": [
    "def short_rate(r_0,n,u,d):\n",
    "    \n",
    "    #S_0 = initial stock price\n",
    "    #n: number of periods\n",
    "    #u,d = up/down movement in each step\n",
    "    \n",
    "    rate = np.zeros((n+1,n+1))\n",
    "    rate[0,0] = r_0\n",
    "    \n",
    "    for i in range(1,n+1):\n",
    "        rate[i,0] = rate[i-1,0]*d\n",
    "        for j in range(1,i+1):\n",
    "            rate[i,j] = rate[i-1,j-1]*u\n",
    "        \n",
    "        \n",
    "    return rate"
   ]
  }
 ],
 "metadata": {
  "kernelspec": {
   "display_name": "Python 3",
   "language": "python",
   "name": "python3"
  },
  "language_info": {
   "codemirror_mode": {
    "name": "ipython",
    "version": 3
   },
   "file_extension": ".py",
   "mimetype": "text/x-python",
   "name": "python",
   "nbconvert_exporter": "python",
   "pygments_lexer": "ipython3",
   "version": "3.6.7"
  }
 },
 "nbformat": 4,
 "nbformat_minor": 2
}
