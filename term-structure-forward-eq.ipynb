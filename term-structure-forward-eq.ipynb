{
 "cells": [
  {
   "cell_type": "markdown",
   "metadata": {},
   "source": [
    "# Calculating the Term Structure of Interest Rates Using Forward Equations:\n",
    "\n",
    "In this module, I will calculate the term structure of interest rates using the forward equations. The forward equations enable us to calculate the prices of elementary securities (also known as Arrow-Debreu securities). An elementary security is a contract that pays 1 unit of a numeraire if a particular state occurs at a particular time in the future and pays zero numeraire in all the other states.\n",
    "\n",
    "By constructing the forward prices, we can price other derivatives very easily and here we would focus on calculating first the Zero Coupon Bond Prices and then deriving the term structure of interest rates using the forward equations. For details on how the Term Structure is calculated from ZCB prices, see the module ZCB_term_structure. \n",
    "\n",
    "The forward equations are defined as follows:\n",
    "\n",
    "Let $P_{i,j}$ be the time 0 price of a security that pays 1 unit in time $i$ and state $j$ and 0 in all other states.\n",
    "\n",
    "Then,\n",
    "\n",
    "$ \\large P_{0,0} = 1$\n",
    "\n",
    "$\\large P_{k+1,0} = \\frac{1}{2} \\frac{P_{k,0}}{1 + r_{k,0}} $\n",
    "\n",
    "$\\large P_{k+1,k+1} = \\frac{1}{2} \\frac{P_{k,k}}{1 + r_{k,k}} $\n",
    "\n",
    "$\\large P_{k+1,s} = \\frac{1}{2} \\frac{P_{k,s-1}}{1 + r_{k,s-1}}  + \\frac{1}{2} \\frac{P_{k,s}}{1 + r_{k,s}}$ if 0 < s < k+1\n",
    "\n",
    "From the forward equations, the zero coupon bond prices can be calculated using the formula:\n",
    "\n",
    "$ \\large Z_{0}^k = FV \\sum_{i=0}^{k+1} P_{k,j}$ where $Z_{0}^k$ is the time 0 price of a ZCB maturing in k periods with FV face value and $P_{k,j}$ are the elementary prices in time k and state j.\n",
    "\n",
    "So first we will construct the binomial short rate lattice (see earlier modules on how to do this) and then construct a function to calculate the forward equations up to a given period.\n"
   ]
  },
  {
   "cell_type": "code",
   "execution_count": 1,
   "metadata": {},
   "outputs": [],
   "source": [
    "import numpy as np\n",
    "import matplotlib.pyplot as plt"
   ]
  },
  {
   "cell_type": "code",
   "execution_count": 30,
   "metadata": {},
   "outputs": [
    {
     "data": {
      "image/png": "[encoded data removed]",
      "text/plain": [
       "<Figure size 720x432 with 1 Axes>"
      ]
     },
     "metadata": {
      "needs_background": "light"
     },
     "output_type": "display_data"
    }
   ],
   "source": [
    "plot_term_structure(6.0,200,1.25,0.9)"
   ]
  },
  {
   "cell_type": "code",
   "execution_count": 28,
   "metadata": {},
   "outputs": [],
   "source": [
    "def plot_term_structure(r_0,n,u,d):\n",
    "    \n",
    "    spot_rates = term_structure(r_0,n,u,d)\n",
    "    \n",
    "    maturity = np.arange(1,n+1)\n",
    "    \n",
    "    plt.figure(figsize=(10,6))\n",
    "    \n",
    "    plt.plot(maturity, spot_rates*100, 'r.-')\n",
    "    \n",
    "    plt.ylabel('Spot Rates (%)', size = 20)\n",
    "    plt.xlabel('# of Periods', size = 20)\n",
    "    \n",
    "    plt.tick_params(labelsize = 14)\n",
    "    \n",
    "    plt.title('Term Structure of Interest Rates (from Forward Equations)')\n",
    "    \n",
    "    return"
   ]
  },
  {
   "cell_type": "code",
   "execution_count": 24,
   "metadata": {},
   "outputs": [],
   "source": [
    "def term_structure(r_0, n, u, d):\n",
    "    \n",
    "    #r_0: the present rate\n",
    "    #n: number of periods\n",
    "    #u,d: up and down factor of the short rates\n",
    "    \n",
    "    zcb_price_arr = np.zeros(n+1)   #the zcb function is defined below\n",
    "    \n",
    "    for i in range(1,n+1):\n",
    "        zcb_price_arr[i] = zcb_price_forward(i, r_0, u, d)\n",
    "        \n",
    "    spot_rates = np.zeros(n+1)\n",
    "    \n",
    "    for i in range(1,n+1):\n",
    "        spot_rates[i] = (100.0/zcb_price_arr[i])**(1/i) - 1.0\n",
    "           \n",
    "    return spot_rates[1:]"
   ]
  },
  {
   "cell_type": "code",
   "execution_count": 12,
   "metadata": {},
   "outputs": [],
   "source": [
    "def zcb_price_forward(k,r_0,u,d,fv=100):\n",
    "    \n",
    "    #price of a zero_coupon bond with face value = fv and maturing in k periods using forward equations\n",
    "    #fv: face value (default 100)\n",
    "    #k: maturity period\n",
    "    #r_0: present short rate\n",
    "    #u,d: up and down factors of the short rate lattice\n",
    "    \n",
    "    e_prices = elementary_prices(r_0,k,u,d)\n",
    "    \n",
    "    zcb_price = fv*np.sum(e_prices,axis=1)[k]\n",
    "    \n",
    "    return zcb_price\n",
    "    \n",
    "    "
   ]
  },
  {
   "cell_type": "code",
   "execution_count": 3,
   "metadata": {},
   "outputs": [],
   "source": [
    "def elementary_prices(r_0,n,u,d):\n",
    "    \n",
    "    s = short_rate(r_0,n,u,d)/100.0\n",
    "    \n",
    "    e_prices = np.zeros_like(s)\n",
    "    \n",
    "    e_prices[0,0] = 1.0\n",
    "    \n",
    "    for i in range(1,n+1):            #the 0-th row\n",
    "        e_prices[i,0] = e_prices[i-1,0]/(2*(1.0 + s[i-1,0]))\n",
    "        \n",
    "    for i in range(1,n+1):\n",
    "        e_prices[i,0] = e_prices[i-1,0]/(2*(1.0 + s[i-1,0]))\n",
    "        for j in range(1,i+1):\n",
    "            if i > j:\n",
    "                e_prices[i,j] = e_prices[i-1,j-1]/(2*(1.0 + s[i-1,j-1])) + e_prices[i-1,j]/(2*(1.0 + s[i-1,j]))\n",
    "            else:\n",
    "                e_prices[i,j] = e_prices[i-1,j-1]/(2*(1.0 + s[i-1,j-1]))\n",
    "                   \n",
    "    return e_prices    "
   ]
  },
  {
   "cell_type": "code",
   "execution_count": 5,
   "metadata": {},
   "outputs": [],
   "source": [
    "def short_rate(r_0,n,u,d):\n",
    "    \n",
    "    #S_0 = initial stock price\n",
    "    #n: number of periods\n",
    "    #u,d = up/down movement in each step\n",
    "    \n",
    "    rate = np.zeros((n+1,n+1))\n",
    "    rate[0,0] = r_0\n",
    "    \n",
    "    for i in range(1,n+1):\n",
    "        rate[i,0] = rate[i-1,0]*d\n",
    "        for j in range(1,i+1):\n",
    "            rate[i,j] = rate[i-1,j-1]*u\n",
    "        \n",
    "        \n",
    "    return rate"
   ]
  }
 ],
 "metadata": {
  "kernelspec": {
   "display_name": "Python 3",
   "language": "python",
   "name": "python3"
  },
  "language_info": {
   "codemirror_mode": {
    "name": "ipython",
    "version": 3
   },
   "file_extension": ".py",
   "mimetype": "text/x-python",
   "name": "python",
   "nbconvert_exporter": "python",
   "pygments_lexer": "ipython3",
   "version": "3.6.7"
  }
 },
 "nbformat": 4,
 "nbformat_minor": 2
}
