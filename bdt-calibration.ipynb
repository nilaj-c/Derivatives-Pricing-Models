{
 "cells": [
  {
   "cell_type": "markdown",
   "metadata": {},
   "source": [
    "# Black-Derman-Toy Model: calibration using market spot rate data\n",
    "\n",
    "The Black-Derman-Toy model is a short rate model used to price many interest rate derivatives like bond options, swaptions etc. It was published in 1990 and was developed due to a growing interest in pricing options on Treasury bonds. It is a single-factor model where the short rate determines the future evolution of all interest rates. The model combines log-normal and mean-reverting behavior and is given by:\n",
    "\n",
    "$ d(ln(r)) = [ \\theta_t + \\frac{\\sigma '_t}{\\sigma_t}ln(r)]dt + \\sigma dW $\n",
    "\n",
    "where $\\frac{\\sigma '_t}{\\sigma_t}$ is the speed of mean reversion and $\\theta_t$ is related to the time-dependent mean-reversion level.\n",
    "\n",
    "It was originally described as a discrete model using binomial trees and became very popular with practitioners for that reason. The parameters of the model can be calibrated to fit the current term structure of interest rates and volatility structure as derived from implied prices. \n",
    "\n",
    "In the binomial tree formalism:\n",
    "\n",
    "the risk-neutral probability is taken to be 1/2. The short-rate at node (i,j) is given by:\n",
    "\n",
    "$log(r_{i,j}) = log(a_i) + b_ij$ \n",
    "\n",
    "$log(a_i)$ is a drift parameter for $log(r)$ and $b_i$ is a volatility parameter for $log(r)$. In this module, I will demonstrate how the model can be coded in python and the parameters can be calibrated using spot rate data. In this example, the volatility parameter ($b_i$) is assumed to be constant, though an entire term-structure of volatilites can be calibrated as well. \n",
    "\n",
    "We adopt the following procedure to implement and calibrate the model:\n",
    "\n",
    "1. First, the market spot rate data is saved in the array \"spot_market\". This is the data to which I would calibrate the model parameters. This is a hypoothetical term structure and does not represent real data.\n",
    "\n",
    "2. We assume a constant volatility parameter $b = 0.005$ and take an initial guess for the $a_i$'s\n",
    "\n",
    "3. Next, we construct the BDT short rate model. This is a binomial tree which takes as input the array $a$ and scalar b and outputs the short rate lattice. The function \"bdt_short_rate\" has been constructed for this purpose.\n",
    "\n",
    "4. The array of elementary securities (Arrow-Debreu securities) is next constructed from the short rate lattice. For more details on how this is done, see the module on Forward Equations. The function to do this is called \"elementary_prices\" which takes in the drift and volatility parameters as input and calculates the prices of elementary securities using the forward equations.\n",
    "\n",
    "5. The Zero Coupon Bond prices are then calculated from the price of elementary prices. This is done by summing the price of all elementary securities maturing at a fixed time. For more details see the module on Forward Equations. The function for this is \"zcb_price_forward\". \n",
    "\n",
    "6. The model spot rates are calculated from the ZCB prices. The function for this is called \"term_structure\". \n",
    "\n",
    "7. Finally, we can calibrate the model by using a minimization routine from SciPy where we minimize the sum of squares of the difference between the model spot rates and market spot rates by varying the drift parameters $a_i$. This can also be done using a root-finding algorithm like Newton-Raphson method. \n",
    "\n",
    "Here we have calibrated a 14 period BDT lattice and plotted the market spot rate and final fitted spot rates and we see the model can be calibrated fairly accurately.\n",
    "\n",
    "\n",
    "\n"
   ]
  },
  {
   "cell_type": "code",
   "execution_count": 18,
   "metadata": {},
   "outputs": [],
   "source": [
    "import numpy as np\n",
    "import scipy.optimize as sciop\n",
    "import matplotlib.pyplot as plt\n",
    "np.set_printoptions(precision=8, suppress=True)"
   ]
  },
  {
   "cell_type": "code",
   "execution_count": 2,
   "metadata": {},
   "outputs": [],
   "source": [
    "spot_market = [7.3,7.62,8.10,8.45,9.2,9.64,10.12, 10.45, 10.75,11.22,11.55,11.92,12.20,12.32]"
   ]
  },
  {
   "cell_type": "code",
   "execution_count": 26,
   "metadata": {},
   "outputs": [
    {
     "data": {
      "text/plain": [
       "Text(0.5,1,'Term Structure of Interest Rates (from Forward Equations)')"
      ]
     },
     "execution_count": 26,
     "metadata": {},
     "output_type": "execute_result"
    },
    {
     "data": {
      "image/png": "[encoded data removed]",
      "text/plain": [
       "<Figure size 720x432 with 1 Axes>"
      ]
     },
     "metadata": {},
     "output_type": "display_data"
    }
   ],
   "source": [
    "maturity = np.arange(1,n_periods+1)\n",
    "    \n",
    "plt.figure(figsize=(10,6))\n",
    "\n",
    "plt.plot(maturity, spot_fitted, 'r.-', label = 'BDT model')\n",
    "\n",
    "plt.ylabel('Spot Rates (%)', size = 20)\n",
    "plt.xlabel('Maturity Period', size = 20)\n",
    "    \n",
    "plt.tick_params(labelsize = 14)\n",
    "    \n",
    "plt.title('Term Structure of Interest Rates (from Market Data)')"
   ]
  },
  {
   "cell_type": "code",
   "execution_count": 3,
   "metadata": {},
   "outputs": [],
   "source": [
    "n_periods = 14\n",
    "b = 0.005\n",
    "a = 5.0*np.ones(n_periods)"
   ]
  },
  {
   "cell_type": "code",
   "execution_count": 15,
   "metadata": {},
   "outputs": [
    {
     "name": "stdout",
     "output_type": "stream",
     "text": [
      "Optimization terminated successfully.\n",
      "         Current function value: 0.000000\n",
      "         Iterations: 77\n",
      "         Function evaluations: 1264\n",
      "         Gradient evaluations: 79\n"
     ]
    }
   ],
   "source": [
    "res = sciop.minimize(objective_function, a, options={'disp': True})"
   ]
  },
  {
   "cell_type": "code",
   "execution_count": 28,
   "metadata": {},
   "outputs": [
    {
     "name": "stdout",
     "output_type": "stream",
     "text": [
      "The fitted model spot rates:\n",
      "[ 7.29999996  7.61999997  8.09999795  8.45000475  9.19998456  9.64003465\n",
      " 10.11994717 10.45004693 10.74998526 11.21998876 11.55002044 11.91997537\n",
      " 12.20001103 12.32000243]\n",
      "The model drift parameters:\n",
      "[ 7.29999996  7.92110561  9.02116417  9.43574582 12.13013684 11.71953764\n",
      " 12.84959407 12.56672166 12.91802994 15.19509413 14.53681129 15.63565576\n",
      " 15.1544208  13.44778672]\n"
     ]
    }
   ],
   "source": [
    "a_fitted = res.x\n",
    "\n",
    "spot_fitted = term_structure(a_fitted,b)\n",
    "\n",
    "print(\"The fitted model spot rates:\")\n",
    "print(spot_fitted)\n",
    "\n",
    "print(\"The model drift parameters:\")\n",
    "print(a_fitted)"
   ]
  },
  {
   "cell_type": "code",
   "execution_count": 6,
   "metadata": {},
   "outputs": [],
   "source": [
    "def objective_function(a_in):\n",
    "    \n",
    "    spot_model = term_structure(a_in, b)\n",
    "    \n",
    "    diff = spot_model - spot_market\n",
    "    \n",
    "    sum_sq = np.sum(diff**2.0)\n",
    "    \n",
    "    return sum_sq    "
   ]
  },
  {
   "cell_type": "code",
   "execution_count": 7,
   "metadata": {},
   "outputs": [],
   "source": [
    "def bdt_short_rate(a_in,b_in):\n",
    "    \n",
    "    n = len(a)\n",
    "    \n",
    "    rate = np.zeros((n,n))\n",
    "    \n",
    "    rate[0,0] = a_in[0] + b_in*0\n",
    "    \n",
    "    for i in range(1,n):\n",
    "        for j in range (0,i+1):\n",
    "            rate[i,j] = a_in[i]*np.exp(b_in*j)\n",
    "        \n",
    "        \n",
    "    return rate    "
   ]
  },
  {
   "cell_type": "code",
   "execution_count": 8,
   "metadata": {},
   "outputs": [],
   "source": [
    "def elementary_prices(a_in,b_in):\n",
    "    \n",
    "    s = bdt_short_rate(a_in,b_in)/100.0\n",
    "    \n",
    "    n_periods = len(a_in)\n",
    "    \n",
    "    e_prices = np.zeros((n_periods+1,n_periods+1))\n",
    "    \n",
    "    e_prices[0,0] = 1.0\n",
    "    \n",
    "    for i in range(1,n_periods+1):            #the 0-th row\n",
    "        e_prices[i,0] = e_prices[i-1,0]/(2*(1.0 + s[i-1,0]))\n",
    "        \n",
    "    for i in range(1,n_periods+1):\n",
    "        e_prices[i,0] = e_prices[i-1,0]/(2*(1.0 + s[i-1,0]))\n",
    "        for j in range(1,i+1):\n",
    "            if i > j:\n",
    "                e_prices[i,j] = e_prices[i-1,j-1]/(2*(1.0 + s[i-1,j-1])) + e_prices[i-1,j]/(2*(1.0 + s[i-1,j]))\n",
    "            else:\n",
    "                e_prices[i,j] = e_prices[i-1,j-1]/(2*(1.0 + s[i-1,j-1]))\n",
    "                   \n",
    "    return e_prices   "
   ]
  },
  {
   "cell_type": "code",
   "execution_count": 9,
   "metadata": {},
   "outputs": [],
   "source": [
    "def zcb_price_forward(a_in,b_in,fv=100.0):\n",
    "    \n",
    "    e_prices = elementary_prices(a_in,b_in)\n",
    "    \n",
    "    zcb_price_arr = fv*np.sum(e_prices,axis=1)\n",
    "    \n",
    "    return zcb_price_arr"
   ]
  },
  {
   "cell_type": "code",
   "execution_count": 10,
   "metadata": {},
   "outputs": [],
   "source": [
    "def term_structure(a_in,b_in,fv=100.0):\n",
    "        \n",
    "    n = len(a_in) + 1\n",
    "    \n",
    "    zcb_price_arr = zcb_price_forward(a_in,b_in,fv)\n",
    "        \n",
    "    spot_rates = np.zeros(n)\n",
    "    \n",
    "    for i in range(1,n):\n",
    "        spot_rates[i] = (fv/zcb_price_arr[i])**(1/i) - 1.0\n",
    "           \n",
    "    return spot_rates[1:]*100.0    "
   ]
  }
 ],
 "metadata": {
  "kernelspec": {
   "display_name": "Python 3",
   "language": "python",
   "name": "python3"
  },
  "language_info": {
   "codemirror_mode": {
    "name": "ipython",
    "version": 3
   },
   "file_extension": ".py",
   "mimetype": "text/x-python",
   "name": "python",
   "nbconvert_exporter": "python",
   "pygments_lexer": "ipython3",
   "version": "3.6.7"
  }
 },
 "nbformat": 4,
 "nbformat_minor": 2
}
